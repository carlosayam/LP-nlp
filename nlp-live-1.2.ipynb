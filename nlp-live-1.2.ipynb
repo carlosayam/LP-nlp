{
 "cells": [
  {
   "cell_type": "code",
   "execution_count": 7,
   "metadata": {},
   "outputs": [],
   "source": [
    "# Initial imports\n",
    "import pickle\n",
    "from pathlib import Path\n",
    "from typing import List, Dict"
   ]
  },
  {
   "cell_type": "code",
   "execution_count": 2,
   "metadata": {},
   "outputs": [],
   "source": [
    "# globals\n",
    "SOURCES = Path('cnn') / 'stories'"
   ]
  },
  {
   "cell_type": "code",
   "execution_count": 3,
   "metadata": {},
   "outputs": [],
   "source": [
    "def load_corpus(a_path: Path) -> List[Dict]:\n",
    "    \"\"\"Loads the entire corpus of stories into memory as a list of dictionaries.\"\"\"\n",
    "    resp = []\n",
    "    for f_path in a_path.glob('*.story'):\n",
    "        resp.append(load_story(f_path))\n",
    "    return resp\n",
    "\n",
    "def load_story(f_path: Path) -> Dict:\n",
    "    \"\"\"Load a story into a dictionary.\n",
    "    A story has some lines, separated by empty lines, followed by highlights.\n",
    "    Highlights are structured with a @highlight keyword, followed by some lines.\n",
    "    This method will throw an exception if the story has no body.\n",
    "    \"\"\"\n",
    "    resp = dict(body=[], summaries=[], id=f_path.name)\n",
    "    with f_path.open() as fh:\n",
    "        reading_main = True\n",
    "        for line in fh.readlines():\n",
    "            # remove leading and trailing white space - i.e. assume it is not important\n",
    "            line = line.strip()\n",
    "            # skip empty lines\n",
    "            if not line:\n",
    "                continue\n",
    "            if line == '@highlight':\n",
    "                reading_main = False\n",
    "                current_highlight = []\n",
    "                resp['summaries'].append(current_highlight)\n",
    "                continue\n",
    "            if reading_main:\n",
    "                resp['body'].append(line)\n",
    "            else:\n",
    "                current_highlight.append(line)\n",
    "        return resp"
   ]
  },
  {
   "cell_type": "code",
   "execution_count": 5,
   "metadata": {},
   "outputs": [],
   "source": [
    "corpus = load_corpus(SOURCES)"
   ]
  },
  {
   "cell_type": "code",
   "execution_count": 6,
   "metadata": {},
   "outputs": [
    {
     "data": {
      "text/plain": [
       "92579"
      ]
     },
     "execution_count": 6,
     "metadata": {},
     "output_type": "execute_result"
    }
   ],
   "source": [
    "len(corpus)"
   ]
  },
  {
   "cell_type": "code",
   "execution_count": 8,
   "metadata": {},
   "outputs": [],
   "source": [
    "pickle.dump(corpus, open(SOURCES.parent / 'corpus.pkl', 'wb'))"
   ]
  },
  {
   "cell_type": "code",
   "execution_count": null,
   "metadata": {},
   "outputs": [],
   "source": []
  }
 ],
 "metadata": {
  "kernelspec": {
   "display_name": "Python 3",
   "language": "python",
   "name": "python3"
  },
  "language_info": {
   "codemirror_mode": {
    "name": "ipython",
    "version": 3
   },
   "file_extension": ".py",
   "mimetype": "text/x-python",
   "name": "python",
   "nbconvert_exporter": "python",
   "pygments_lexer": "ipython3",
   "version": "3.6.5"
  }
 },
 "nbformat": 4,
 "nbformat_minor": 4
}
